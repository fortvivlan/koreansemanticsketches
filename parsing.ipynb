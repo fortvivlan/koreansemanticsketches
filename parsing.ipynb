{
 "cells": [
  {
   "cell_type": "markdown",
   "metadata": {},
   "source": [
    "Необходимо установить git: https://git-scm.com/. Стандартные настройки подойдут. \n",
    "\n",
    "Следующие модули лучше устанавливать именно в таком порядке (rnnmorph и PyKoSpacing иба используют tensorflow и keras, и rnnmorph может поставить автоматически более новые версии, которые не работают с pykospacing)\n",
    "\n",
    "pip install razdel\n",
    "\n",
    "pip install rnnmorph\n",
    "\n",
    "pip install spacy_udpipe \n",
    "\n",
    "pip install keras==2.4.3\n",
    "\n",
    "pip install git+https://github.com/haven-jeon/PyKoSpacing.git"
   ]
  },
  {
   "cell_type": "code",
   "execution_count": 1,
   "metadata": {},
   "outputs": [],
   "source": [
    "'''Модули, которые необходимо импортировать. \n",
    "PyKoSpacing - токенизатор корейского; spacy_udpipe - морфопарсер (мы загрузим его для корейского); \n",
    "razdel - токенизатор для русского; rnnmorph - морфопарсер русского'''\n",
    "\n",
    "import json\n",
    "import re\n",
    "import pandas as pd\n",
    "from pykospacing import Spacing\n",
    "from razdel import tokenize\n",
    "from rnnmorph.predictor import RNNMorphPredictor\n",
    "import spacy_udpipe"
   ]
  },
  {
   "cell_type": "code",
   "execution_count": 2,
   "metadata": {},
   "outputs": [],
   "source": [
    "def loader(path, lang):\n",
    "    '''Функция загрузки данных'''\n",
    "    data = []\n",
    "    with open(path, 'r', encoding='utf8') as file:  \n",
    "        for line in file:\n",
    "            data.append(json.loads(line))\n",
    "    data = pd.DataFrame(data)\n",
    "    data = data[['tweet', 'language']]  # оставим в датафрейме только нужные колонки\n",
    "    data = data[data.language == lang]  # отсеем твиты, которые сам твиттер определил как не на нужном нам языке\n",
    "    data['tweet'] = data['tweet'].apply(lambda tweet: re.sub(r'https://t.co/\\w+', '', tweet))  # удалим ссылки. по-хорошему, там еще надо чистить, но нам не так принципиально\n",
    "    data['tweet'] = data['tweet'].apply(lambda tweet: re.sub(r'@[a-zA-Z0-9_-]+', '', tweet))\n",
    "    return data"
   ]
  },
  {
   "cell_type": "code",
   "execution_count": 3,
   "metadata": {},
   "outputs": [
    {
     "data": {
      "text/html": [
       "<div>\n",
       "<style scoped>\n",
       "    .dataframe tbody tr th:only-of-type {\n",
       "        vertical-align: middle;\n",
       "    }\n",
       "\n",
       "    .dataframe tbody tr th {\n",
       "        vertical-align: top;\n",
       "    }\n",
       "\n",
       "    .dataframe thead th {\n",
       "        text-align: right;\n",
       "    }\n",
       "</style>\n",
       "<table border=\"1\" class=\"dataframe\">\n",
       "  <thead>\n",
       "    <tr style=\"text-align: right;\">\n",
       "      <th></th>\n",
       "      <th>tweet</th>\n",
       "      <th>language</th>\n",
       "    </tr>\n",
       "  </thead>\n",
       "  <tbody>\n",
       "    <tr>\n",
       "      <th>0</th>\n",
       "      <td>류짱우 겨 존나야함</td>\n",
       "      <td>ko</td>\n",
       "    </tr>\n",
       "    <tr>\n",
       "      <th>1</th>\n",
       "      <td>유진차  ㅜㅋㅋㅋㅋㅋㅋㅋㅋㅋ</td>\n",
       "      <td>ko</td>\n",
       "    </tr>\n",
       "    <tr>\n",
       "      <th>2</th>\n",
       "      <td>찰떡같은거 나올때까지 시도했기때문이긴한데;; 아무튼 소름 ㄷㄷ;;</td>\n",
       "      <td>ko</td>\n",
       "    </tr>\n",
       "    <tr>\n",
       "      <th>3</th>\n",
       "      <td>ㅈㄴ찰떡같은거만 나오네;;</td>\n",
       "      <td>ko</td>\n",
       "    </tr>\n",
       "    <tr>\n",
       "      <th>4</th>\n",
       "      <td>🐞 수인 테스트 ────────────────── 김래빈님은 자신이 토끼 수인인 걸...</td>\n",
       "      <td>ko</td>\n",
       "    </tr>\n",
       "  </tbody>\n",
       "</table>\n",
       "</div>"
      ],
      "text/plain": [
       "                                               tweet language\n",
       "0                                         류짱우 겨 존나야함       ko\n",
       "1                                  유진차  ㅜㅋㅋㅋㅋㅋㅋㅋㅋㅋ         ko\n",
       "2               찰떡같은거 나올때까지 시도했기때문이긴한데;; 아무튼 소름 ㄷㄷ;;       ko\n",
       "3                                     ㅈㄴ찰떡같은거만 나오네;;       ko\n",
       "4  🐞 수인 테스트 ────────────────── 김래빈님은 자신이 토끼 수인인 걸...       ko"
      ]
     },
     "execution_count": 3,
     "metadata": {},
     "output_type": "execute_result"
    }
   ],
   "source": [
    "'''Загрузим датасет и переведем его в формат panel datas'''\n",
    "\n",
    "korean = loader('korean.json', 'ko')\n",
    "\n",
    "korean.head()"
   ]
  },
  {
   "cell_type": "code",
   "execution_count": 4,
   "metadata": {},
   "outputs": [
    {
     "name": "stdout",
     "output_type": "stream",
     "text": [
      "Already downloaded a model for the 'ko' language\n"
     ]
    }
   ],
   "source": [
    "'''Загрузим необходимые для работы инструменты - модель для корейского'''\n",
    "\n",
    "spacy_udpipe.download(\"ko\")\n",
    "nlp = spacy_udpipe.load(\"ko\")\n",
    "spacing = Spacing()"
   ]
  },
  {
   "cell_type": "markdown",
   "metadata": {},
   "source": [
    "Примечание: ячейки с кодом для токенизации и морфоразбора могут **долго** работать. Это нормально: почти все наши инструменты работают на нейронных сетях, а они небыстрые."
   ]
  },
  {
   "cell_type": "code",
   "execution_count": 5,
   "metadata": {},
   "outputs": [],
   "source": [
    "'''Отпарсим твиты: токенизируем их и сделаем морфоразбор. Теперь у нас будут списки токенов и лемм'''\n",
    "\n",
    "parsedkorean = []\n",
    "for tweet in korean.tweet:\n",
    "    doc = nlp(spacing(tweet))\n",
    "    parsedtweet = []\n",
    "    for token in doc:\n",
    "        parsedtweet.append((token.text, token.lemma_))\n",
    "    parsedkorean.append(parsedtweet)"
   ]
  },
  {
   "cell_type": "code",
   "execution_count": 6,
   "metadata": {},
   "outputs": [
    {
     "data": {
      "text/plain": [
       "[[('류짱우', '류짱우'), ('겨', '기+어'), ('존', '존'), ('나야함', '나야+하+ㅁ')],\n",
       " [('유진차', '유진차'), ('ㅜㅋㅋㅋㅋㅋㅋㅋㅋㅋ', 'ㅜㅋㅋㅋㅋㅋㅋㅋㅋㅋ')],\n",
       " [('찰떡', '찰떡'),\n",
       "  ('같은', '같+ㄴ'),\n",
       "  ('거', '거'),\n",
       "  ('나올', '나오+ㄹ'),\n",
       "  ('때까지', '때+까지'),\n",
       "  ('시도', '시+도'),\n",
       "  ('했기', '하+었+기'),\n",
       "  ('때문이긴', '때문+이+기+는'),\n",
       "  ('한데', '한데'),\n",
       "  (';', ';'),\n",
       "  (';', ';'),\n",
       "  ('아무튼', '아무튼'),\n",
       "  ('소름', '소름'),\n",
       "  ('ㄷㄷ', 'ㄷㄷ'),\n",
       "  (';', ';'),\n",
       "  (';', ';')]]"
      ]
     },
     "execution_count": 6,
     "metadata": {},
     "output_type": "execute_result"
    }
   ],
   "source": [
    "'''Можно посмотреть, как это будет выглядеть, на первых трех предложениях'''\n",
    "parsedkorean[:3]"
   ]
  },
  {
   "cell_type": "code",
   "execution_count": 7,
   "metadata": {},
   "outputs": [
    {
     "name": "stdout",
     "output_type": "stream",
     "text": [
      "117\n"
     ]
    }
   ],
   "source": [
    "'''Зададим слово, предложения с которым мы хотим отсеять'''\n",
    "\n",
    "keyword = '것'  # меняйте на нужное слово. Это может быть или токен, или лемма (но я не знаю, как в корейском языке достоверно лемматизируется, есть ли у них инфинитивы?)\n",
    "filteredkorean = []\n",
    "for tweet in parsedkorean:\n",
    "    for token in tweet:\n",
    "        if keyword in token:\n",
    "            filteredkorean.append(tweet)\n",
    "            break\n",
    "print(len(filteredkorean))  # посмотрим, сколько предложений у нас получилось"
   ]
  },
  {
   "cell_type": "code",
   "execution_count": 8,
   "metadata": {},
   "outputs": [],
   "source": [
    "'''Запишем предложения в xlsx'''\n",
    "\n",
    "d = dict(enumerate(filteredkorean))\n",
    "dict_df = pd.DataFrame({key:pd.Series(value) for key, value in d.items()}).T\n",
    "dict_df.to_excel('korean.xlsx')  # Меняйте название файла"
   ]
  },
  {
   "cell_type": "markdown",
   "metadata": {},
   "source": [
    "Теперь то же сделаем для русского языка"
   ]
  },
  {
   "cell_type": "code",
   "execution_count": 9,
   "metadata": {},
   "outputs": [],
   "source": [
    "'''Инициализируем морфопарсер - если вывалит какие-то ворнинги, не пугайтесь, он любит. Главное, чтобы не было ошибок в нижних ячейках'''\n",
    "\n",
    "predictor = RNNMorphPredictor(language=\"ru\")"
   ]
  },
  {
   "cell_type": "code",
   "execution_count": 10,
   "metadata": {},
   "outputs": [
    {
     "data": {
      "text/html": [
       "<div>\n",
       "<style scoped>\n",
       "    .dataframe tbody tr th:only-of-type {\n",
       "        vertical-align: middle;\n",
       "    }\n",
       "\n",
       "    .dataframe tbody tr th {\n",
       "        vertical-align: top;\n",
       "    }\n",
       "\n",
       "    .dataframe thead th {\n",
       "        text-align: right;\n",
       "    }\n",
       "</style>\n",
       "<table border=\"1\" class=\"dataframe\">\n",
       "  <thead>\n",
       "    <tr style=\"text-align: right;\">\n",
       "      <th></th>\n",
       "      <th>tweet</th>\n",
       "      <th>language</th>\n",
       "    </tr>\n",
       "  </thead>\n",
       "  <tbody>\n",
       "    <tr>\n",
       "      <th>0</th>\n",
       "      <td>Сама 10 мес искала работу. Знаю.</td>\n",
       "      <td>ru</td>\n",
       "    </tr>\n",
       "    <tr>\n",
       "      <th>1</th>\n",
       "      <td>Железный аргумент.</td>\n",
       "      <td>ru</td>\n",
       "    </tr>\n",
       "    <tr>\n",
       "      <th>2</th>\n",
       "      <td>Т.е. назло маме отморожу уши?</td>\n",
       "      <td>ru</td>\n",
       "    </tr>\n",
       "    <tr>\n",
       "      <th>3</th>\n",
       "      <td>Это его выбор.</td>\n",
       "      <td>ru</td>\n",
       "    </tr>\n",
       "    <tr>\n",
       "      <th>4</th>\n",
       "      <td>Присоединяйтесь ко мне в моей Аудиокомнате!</td>\n",
       "      <td>ru</td>\n",
       "    </tr>\n",
       "  </tbody>\n",
       "</table>\n",
       "</div>"
      ],
      "text/plain": [
       "                                           tweet language\n",
       "0               Сама 10 мес искала работу. Знаю.       ru\n",
       "1                             Железный аргумент.       ru\n",
       "2                  Т.е. назло маме отморожу уши?       ru\n",
       "3                                 Это его выбор.       ru\n",
       "4  Присоединяйтесь ко мне в моей Аудиокомнате!         ru"
      ]
     },
     "execution_count": 10,
     "metadata": {},
     "output_type": "execute_result"
    }
   ],
   "source": [
    "russian = loader('russian.json', 'ru')\n",
    "russian.head()"
   ]
  },
  {
   "cell_type": "markdown",
   "metadata": {},
   "source": [
    "Будьте готовы к тому, что RNNMorph **очень** медленный. Можно идти пить чай..."
   ]
  },
  {
   "cell_type": "code",
   "execution_count": 11,
   "metadata": {},
   "outputs": [],
   "source": [
    "parsedrussian = []\n",
    "for tweet in russian.tweet:\n",
    "    parsedrussian.append([(w.word, w.normal_form) for w in predictor.predict([t.text for t in tokenize(tweet)])])"
   ]
  },
  {
   "cell_type": "code",
   "execution_count": 12,
   "metadata": {},
   "outputs": [
    {
     "data": {
      "text/plain": [
       "[[('Сама', 'сам'),\n",
       "  ('10', '10'),\n",
       "  ('мес', 'мес'),\n",
       "  ('искала', 'искать'),\n",
       "  ('работу', 'работа'),\n",
       "  ('.', '.'),\n",
       "  ('Знаю', 'знать'),\n",
       "  ('.', '.')],\n",
       " [('Железный', 'железный'), ('аргумент', 'аргумент'), ('.', '.')],\n",
       " [('Т', 'так'),\n",
       "  ('.', '.'),\n",
       "  ('е', 'быть'),\n",
       "  ('.', '.'),\n",
       "  ('назло', 'назло'),\n",
       "  ('маме', 'мама'),\n",
       "  ('отморожу', 'отморозить'),\n",
       "  ('уши', 'ухо'),\n",
       "  ('?', '?')]]"
      ]
     },
     "execution_count": 12,
     "metadata": {},
     "output_type": "execute_result"
    }
   ],
   "source": [
    "parsedrussian[:3]"
   ]
  },
  {
   "cell_type": "code",
   "execution_count": 13,
   "metadata": {},
   "outputs": [
    {
     "name": "stdout",
     "output_type": "stream",
     "text": [
      "39\n"
     ]
    }
   ],
   "source": [
    "'''Зададим слово, предложения с которым мы хотим отсеять'''\n",
    "\n",
    "keyword = 'делать'  # меняйте на нужное слово. Это может быть или токен, или лемма (для русского вполне можно использовать инфинитивы)\n",
    "filteredrussian = []\n",
    "for tweet in parsedrussian:\n",
    "    for token in tweet:\n",
    "        if keyword in token:\n",
    "            filteredrussian.append(tweet)\n",
    "            break\n",
    "print(len(filteredrussian))  # посмотрим, сколько предложений у нас получилось"
   ]
  },
  {
   "cell_type": "code",
   "execution_count": 14,
   "metadata": {},
   "outputs": [],
   "source": [
    "'''Запишем предложения в xlsx'''\n",
    "\n",
    "d = dict(enumerate(filteredrussian))\n",
    "dict_df = pd.DataFrame({key:pd.Series(value) for key, value in d.items()}).T\n",
    "dict_df.to_excel('russian.xlsx')  # Меняйте название файла"
   ]
  }
 ],
 "metadata": {
  "interpreter": {
   "hash": "11aeeef34c643d6c51503798d848dcb599554d380fb974c43f33a485e5ca305f"
  },
  "kernelspec": {
   "display_name": "Python 3.8.10 64-bit",
   "language": "python",
   "name": "python3"
  },
  "language_info": {
   "codemirror_mode": {
    "name": "ipython",
    "version": 3
   },
   "file_extension": ".py",
   "mimetype": "text/x-python",
   "name": "python",
   "nbconvert_exporter": "python",
   "pygments_lexer": "ipython3",
   "version": "3.8.10"
  },
  "orig_nbformat": 4
 },
 "nbformat": 4,
 "nbformat_minor": 2
}
